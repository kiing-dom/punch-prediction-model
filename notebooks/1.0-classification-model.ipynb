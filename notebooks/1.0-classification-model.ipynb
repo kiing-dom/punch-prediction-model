{
 "cells": [
  {
   "cell_type": "markdown",
   "id": "ba331ecc",
   "metadata": {},
   "source": [
    "# Classification Model"
   ]
  },
  {
   "cell_type": "code",
   "execution_count": null,
   "id": "2bc5bceb",
   "metadata": {},
   "outputs": [],
   "source": [
    "# import libraries\n",
    "import pandas as pd\n",
    "import numpy as np\n",
    "import matplotlib.pyplot as plt\n",
    "import seaborn as sns\n",
    "from glob import glob\n",
    "import os"
   ]
  },
  {
   "cell_type": "code",
   "execution_count": null,
   "id": "a7034547",
   "metadata": {},
   "outputs": [],
   "source": [
    "from sklearn.model_selection import train_test_split\n",
    "from sklearn.preprocessing import StandardScaler\n",
    "from sklearn.ensemble import RandomForestClassifier, GradientBoostingClassifier\n",
    "from sklearn.svm import SVC\n",
    "from sklearn.neighbors import KNeighborsClassifier\n",
    "from sklearn.metrics import classification_report, accuracy_score\n",
    "from sklearn.model_selection import cross_val_score"
   ]
  },
  {
   "cell_type": "markdown",
   "id": "e42e5002",
   "metadata": {},
   "source": [
    "### Load The Data\n",
    "Using our cleaned data"
   ]
  },
  {
   "cell_type": "code",
   "execution_count": null,
   "id": "bb812979",
   "metadata": {},
   "outputs": [],
   "source": [
    "def load_cleaned_data(data_dir):\n",
    "    all_files = glob(os.path.join(data_dir, \"cleaned_boxing_data_*.csv\"))\n",
    "    dataframes = {}\n",
    "    for file in all_files:\n",
    "        df = pd.read_csv(file)\n",
    "        movement_type = file.split(\"_\")[-3]\n",
    "        df['movement_type'] = movement_type\n",
    "        file_name = os.path.basename(file)\n",
    "        dataframes[file_name] = df\n",
    "    return dataframes"
   ]
  },
  {
   "cell_type": "code",
   "execution_count": null,
   "id": "f4b31832",
   "metadata": {},
   "outputs": [],
   "source": [
    "data_dir = '../data/cleaned'\n",
    "dfs = load_cleaned_data(data_dir)\n",
    "\n",
    "for file_name, df in dfs.items():\n",
    "    print(f\"File: {file_name}\")\n",
    "    print(df.info())\n",
    "    print(df.head())\n",
    "    print(df.describe())"
   ]
  },
  {
   "cell_type": "markdown",
   "id": "23bf1128",
   "metadata": {},
   "source": [
    "## Distribution of Movement Types"
   ]
  },
  {
   "cell_type": "code",
   "execution_count": null,
   "id": "1db80c03",
   "metadata": {},
   "outputs": [],
   "source": [
    "movement_counts = pd.Series(dtype=int)\n",
    "\n",
    "for file_name, df in dfs.items():\n",
    "    file_movement_counts = df['movement_type'].value_counts()\n",
    "    movement_counts = movement_counts.add(file_movement_counts, fill_value=0)\n",
    "    \n",
    "plt.figure(figsize=(10, 6))\n",
    "movement_counts.plot(kind='bar')\n",
    "plt.title('Distribution of Movement Types')\n",
    "plt.xlabel('Movement Type')\n",
    "plt.ylabel('Count')\n",
    "plt.xticks(rotation=45)\n",
    "plt.show()"
   ]
  },
  {
   "cell_type": "markdown",
   "id": "e0dd6a0f",
   "metadata": {},
   "source": [
    "# Prepare Features and Target"
   ]
  },
  {
   "cell_type": "code",
   "execution_count": 2,
   "id": "ea48b8a2",
   "metadata": {},
   "outputs": [],
   "source": [
    "def prepare_data(dataframes):\n",
    "    X_all = []\n",
    "    y_all = []\n",
    "    for df in dataframes.values():\n",
    "        feature_columns = [col for col in df.columns if cols.endswith(('_x', '_y', '_z', '_angle'))]\n",
    "        x = df[feature_columns]\n",
    "        y = df['movement_type']\n",
    "        X_all.append(X)\n",
    "        y_all.append(y)\n",
    "    \n",
    "    X_combined = pd.concat(X_all, axis=0)\n",
    "    y_combined = pd.concat(y_all, axis=0)\n",
    "    \n",
    "    # split into training and test sets\n",
    "    X_train, X_test, y_train, y_test = train_test_split(X_combined, y_combined, test_size=0.2, random_state=42)\n",
    "    \n",
    "    scaler = StandardScaler()\n",
    "    X_train_scaled = scaler.fit_transform(X_train)\n",
    "    X_test_scaled = scaler.transform(X_test)\n",
    "    \n",
    "    return X_train_scaled, X_test_scaled, y_train, y_test, scaler"
   ]
  },
  {
   "cell_type": "markdown",
   "id": "3d9f9b4a",
   "metadata": {},
   "source": [
    "## Model Training And Evaluation"
   ]
  },
  {
   "cell_type": "code",
   "execution_count": null,
   "id": "d63821b6",
   "metadata": {},
   "outputs": [],
   "source": [
    "def train_and_evaluate_models(X_train, X_test, y_train, y_test):\n",
    "    models ={\n",
    "        'Random Forest': RandomForestClassifier(n_estimators=100, random_state=42),\n",
    "        'Gradient Boosting':GradientBoostingClassifier(n_estimators=100, random_state=42),\n",
    "        'SVM': SVC(kernel='rbf', random_state=42),\n",
    "        'KNN': KNeighborsClassifier(n_neighbors=5)\n",
    "    }\n",
    "    \n",
    "    results = {}\n",
    "    \n",
    "    for name, model in models.items():\n",
    "        \n",
    "        # train the model\n",
    "        model.fit(X_train, y_train)\n",
    "        \n",
    "        #make predictions\n",
    "        y_pred = model.predict(X_test)\n",
    "        \n",
    "        # calculate accuracy\n",
    "        accuracy = accuracy_score(y_test, y_pred)\n",
    "        \n",
    "        # cross validate\n",
    "        cv_scores = cross_val_score(model, X_train, y_train, cv = 5)\n",
    "        \n",
    "        results[name] = {\n",
    "            'model': model,\n",
    "            'accuracy': accuracy,\n",
    "            'cv_scores': cv_scores,\n",
    "            'classification_report': classification_report(y_test, y_pred)\n",
    "        }\n",
    "        \n",
    "        print(f\"\\nResults for {name}:\")\n",
    "        print(f\"Accuracy: {accuracy:.4f}\")\n",
    "        print(f\"Cross Validation scores: {cv_scores}\")\n",
    "        print(f\"Average CV score: {cv_scores.mean():.4f}\")\n",
    "        print(f\"Classification Report:\")\n",
    "        print(results[name]['classification_report'])"
   ]
  },
  {
   "cell_type": "code",
   "execution_count": null,
   "id": "3c219502",
   "metadata": {},
   "outputs": [],
   "source": [
    "for file_name, df in dfs.items():\n",
    "    # Feature importance\n",
    "    feature_importance = pd.DataFrame({\n",
    "        'feature': feature_columns,\n",
    "        'importance': rf_classifier.feature_importances_\n",
    "    }).sort_values('importance', ascending=False)\n",
    "\n",
    "    plt.figure(figsize=(12, 8))\n",
    "    sns.barplot(x='importance', y='feature', data=feature_importance.head(20))\n",
    "    plt.title(f'Top 20 Most Important Features - {file_name}')\n",
    "    plt.show()"
   ]
  },
  {
   "cell_type": "code",
   "execution_count": null,
   "id": "d10c59f8",
   "metadata": {},
   "outputs": [],
   "source": [
    "import os\n",
    "import joblib\n",
    "\n",
    "# Specify the directory where you want to save the models\n",
    "save_dir = \"../models/\"\n",
    "\n",
    "# Ensure the directory exists, if not, create it\n",
    "if not os.path.exists(save_dir):\n",
    "    os.makedirs(save_dir)\n",
    "\n",
    "for file_name, df in dfs.items():\n",
    "    # Create the full file path including the directory and file name\n",
    "    model_filename = os.path.join(save_dir, f'boxing_movement_classifier_{file_name}.joblib')\n",
    "    \n",
    "    # Save the model for each file\n",
    "    joblib.dump(rf_classifier, model_filename)\n",
    "    print(f\"Model for {file_name} saved as '{model_filename}'\\n\")\n"
   ]
  }
 ],
 "metadata": {
  "kernelspec": {
   "display_name": "Python 3 (ipykernel)",
   "language": "python",
   "name": "python3"
  },
  "language_info": {
   "codemirror_mode": {
    "name": "ipython",
    "version": 3
   },
   "file_extension": ".py",
   "mimetype": "text/x-python",
   "name": "python",
   "nbconvert_exporter": "python",
   "pygments_lexer": "ipython3",
   "version": "3.11.5"
  }
 },
 "nbformat": 4,
 "nbformat_minor": 5
}
